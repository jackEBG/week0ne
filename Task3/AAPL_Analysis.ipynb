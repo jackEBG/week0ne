{
 "cells": [
  {
   "cell_type": "code",
   "execution_count": 12,
   "metadata": {},
   "outputs": [
    {
     "name": "stdout",
     "output_type": "stream",
     "text": [
      "        date    headline\n",
      "0 2020-05-22  Headline 1\n",
      "1 2020-06-01  Headline 2\n",
      "        date  close\n",
      "0 2020-05-22    150\n",
      "1 2020-06-01    155\n"
     ]
    }
   ],
   "source": [
    "import pandas as pd\n",
    "\n",
    "# Load datasets\n",
    "news_df = pd.read_csv(r'C:\\Users\\Admin.DESKTOP-M4R2VLU\\Documents\\week0ne\\data\\raw_analyst_ratings.csv')  \n",
    "stock_df = pd.read_csv(r'C:\\Users\\Admin.DESKTOP-M4R2VLU\\Documents\\week0ne\\data\\AAPL_historical_data.csv') \n",
    "\n",
    "# Sample data\n",
    "news_df = pd.DataFrame({\n",
    "    'date': ['2020-05-22 00:00:00', '2020-06-01 00:00:00'],\n",
    "    'headline': ['Headline 1', 'Headline 2']\n",
    "})\n",
    "\n",
    "stock_df = pd.DataFrame({\n",
    "    'date': ['2020-05-22', '2020-06-01'],\n",
    "    'close': [150, 155]\n",
    "})\n",
    "\n",
    "# Convert 'date' columns to datetime\n",
    "# If your dates include timezone info, you can use 'format' to specify it\n",
    "news_df['date'] = pd.to_datetime(news_df['date'], format='%Y-%m-%d %H:%M:%S', errors='coerce')\n",
    "stock_df['date'] = pd.to_datetime(stock_df['date'], format='%Y-%m-%d', errors='coerce')\n",
    "\n",
    "# Check for NaT values after conversion to catch any parsing issues\n",
    "print(news_df)\n",
    "print(stock_df)\n",
    "\n",
    "# Merge datasets on 'date'\n",
    "merged_df = pd.merge(news_df, stock_df, on='date', how='inner')"
   ]
  },
  {
   "cell_type": "code",
   "execution_count": 13,
   "metadata": {},
   "outputs": [
    {
     "name": "stdout",
     "output_type": "stream",
     "text": [
      "        date    headline  close  sentiment\n",
      "0 2020-05-22  Headline 1    150        0.0\n",
      "1 2020-06-01  Headline 2    155        0.0\n"
     ]
    }
   ],
   "source": [
    "from textblob import TextBlob\n",
    "\n",
    "# Function to get sentiment polarity\n",
    "def get_sentiment(text):\n",
    "    return TextBlob(text).sentiment.polarity\n",
    "\n",
    "# Apply sentiment analysis\n",
    "merged_df['sentiment'] = merged_df['headline'].apply(get_sentiment)\n",
    "print(merged_df)"
   ]
  },
  {
   "cell_type": "code",
   "execution_count": 16,
   "metadata": {},
   "outputs": [],
   "source": [
    "# Calculate daily returns\n",
    "merged_df['daily_return'] = merged_df['close'].pct_change() * 100\n"
   ]
  },
  {
   "cell_type": "code",
   "execution_count": 20,
   "metadata": {},
   "outputs": [
    {
     "name": "stdout",
     "output_type": "stream",
     "text": [
      "Pearson Correlation: nan\n"
     ]
    },
    {
     "name": "stderr",
     "output_type": "stream",
     "text": [
      "c:\\Users\\Admin.DESKTOP-M4R2VLU\\Documents\\week0ne\\myenv\\lib\\site-packages\\numpy\\lib\\_function_base_impl.py:2991: RuntimeWarning: Degrees of freedom <= 0 for slice\n",
      "  c = cov(x, y, rowvar, dtype=dtype)\n",
      "c:\\Users\\Admin.DESKTOP-M4R2VLU\\Documents\\week0ne\\myenv\\lib\\site-packages\\numpy\\lib\\_function_base_impl.py:2848: RuntimeWarning: divide by zero encountered in divide\n",
      "  c *= np.true_divide(1, fact)\n",
      "c:\\Users\\Admin.DESKTOP-M4R2VLU\\Documents\\week0ne\\myenv\\lib\\site-packages\\numpy\\lib\\_function_base_impl.py:2848: RuntimeWarning: invalid value encountered in multiply\n",
      "  c *= np.true_divide(1, fact)\n"
     ]
    }
   ],
   "source": [
    "# Aggregate daily sentiment scores\n",
    "daily_sentiment = merged_df.groupby('date')['sentiment'].mean().reset_index()\n",
    "\n",
    "# Merge daily sentiment with daily returns\n",
    "final_df = pd.merge(daily_sentiment, merged_df[['date', 'daily_return']], on='date')\n",
    "\n",
    "# Calculate Pearson correlation\n",
    "correlation = final_df['sentiment'].corr(final_df['daily_return'])\n",
    "print(f'Pearson Correlation: {correlation}')\n"
   ]
  }
 ],
 "metadata": {
  "kernelspec": {
   "display_name": "myenv",
   "language": "python",
   "name": "python3"
  },
  "language_info": {
   "codemirror_mode": {
    "name": "ipython",
    "version": 3
   },
   "file_extension": ".py",
   "mimetype": "text/x-python",
   "name": "python",
   "nbconvert_exporter": "python",
   "pygments_lexer": "ipython3",
   "version": "3.10.11"
  }
 },
 "nbformat": 4,
 "nbformat_minor": 2
}
